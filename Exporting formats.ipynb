{
 "cells": [
  {
   "cell_type": "code",
   "execution_count": null,
   "id": "9ac73550",
   "metadata": {},
   "outputs": [],
   "source": [
    "# Loading the data from a excel file to a pandas dataframe\n",
    "pd.read_excel('file path')\n",
    "\n",
    "# Exporting a Dtaframe to a csv file\n",
    "boston_df.to_csv('boston.csv')\n",
    "#Exporting a dataframe to excel file\n",
    "df.to_excel('filename')"
   ]
  }
 ],
 "metadata": {
  "kernelspec": {
   "display_name": "Python 3 (ipykernel)",
   "language": "python",
   "name": "python3"
  },
  "language_info": {
   "codemirror_mode": {
    "name": "ipython",
    "version": 3
   },
   "file_extension": ".py",
   "mimetype": "text/x-python",
   "name": "python",
   "nbconvert_exporter": "python",
   "pygments_lexer": "ipython3",
   "version": "3.9.12"
  }
 },
 "nbformat": 4,
 "nbformat_minor": 5
}
