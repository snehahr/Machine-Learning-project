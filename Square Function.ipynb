{
 "cells": [
  {
   "cell_type": "code",
   "execution_count": 1,
   "id": "fa4cdc91",
   "metadata": {},
   "outputs": [
    {
     "name": "stdout",
     "output_type": "stream",
     "text": [
      "The square of the number is: 81\n"
     ]
    }
   ],
   "source": [
    "def square(num):\n",
    "    \"\"\"\"This function gives the square of the numbers given\"\"\"\n",
    "    return num**2\n",
    "object_=square(9)\n",
    "print(\"The square of the number is:\",object_)"
   ]
  },
  {
   "cell_type": "code",
   "execution_count": 23,
   "id": "72dc6ca9",
   "metadata": {},
   "outputs": [
    {
     "name": "stdout",
     "output_type": "stream",
     "text": [
      "squares of the list: [2025, 2704, 169]\n"
     ]
    }
   ],
   "source": [
    "def  square( my_list ):\n",
    "    \"\"\"\"This gives the squares of numbers in the list\"\"\"\n",
    "    squares= []\n",
    "    for i in my_list:\n",
    "        squares.append(i**2)\n",
    "    return squares\n",
    "list_= [45,52,13]\n",
    "result= (square(list_))\n",
    "print(\"squares of the list:\", result)"
   ]
  }
 ],
 "metadata": {
  "kernelspec": {
   "display_name": "Python 3 (ipykernel)",
   "language": "python",
   "name": "python3"
  },
  "language_info": {
   "codemirror_mode": {
    "name": "ipython",
    "version": 3
   },
   "file_extension": ".py",
   "mimetype": "text/x-python",
   "name": "python",
   "nbconvert_exporter": "python",
   "pygments_lexer": "ipython3",
   "version": "3.9.12"
  }
 },
 "nbformat": 4,
 "nbformat_minor": 5
}
